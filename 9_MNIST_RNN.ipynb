{
  "nbformat": 4,
  "nbformat_minor": 0,
  "metadata": {
    "colab": {
      "name": "9.MNIST_RNN.ipynb",
      "provenance": []
    },
    "kernelspec": {
      "name": "python3",
      "display_name": "Python 3"
    }
  },
  "cells": [
    {
      "cell_type": "markdown",
      "metadata": {
        "id": "yKHW3Zio_f5Q",
        "colab_type": "text"
      },
      "source": [
        "# **LSTM**\n",
        "具有長短期記憶的深度學習方法\n",
        "\n",
        "藉由控制每個閥門，選擇是否輸出與控制各個變數，達到記憶的效果"
      ]
    },
    {
      "cell_type": "code",
      "metadata": {
        "id": "SnBbEYmb_OWA",
        "colab_type": "code",
        "colab": {
          "base_uri": "https://localhost:8080/",
          "height": 986
        },
        "outputId": "7743c748-3195-47d8-ad96-317359517217"
      },
      "source": [
        "from keras.datasets import mnist\n",
        "from keras.layers import Dense, LSTM\n",
        "from keras.utils import to_categorical\n",
        "from keras.models import Sequential\n",
        "\n",
        "#parameters for LSTM\n",
        "nb_lstm_outputs = 30  \n",
        "nb_time_steps = 28  \n",
        "nb_input_vector = 28 \n",
        "\n",
        "#data preprocessing: tofloat32, normalization, one_hot encoding\n",
        "# 讀取訓練資料及測試資料，並正規化處理\n",
        "(x_train, y_train), (x_test, y_test) = mnist.load_data()\n",
        "x_train = x_train.astype('float32')\n",
        "x_test = x_test.astype('float32')\n",
        "x_train /= 255\n",
        "x_test /= 255\n",
        " \n",
        "y_train = to_categorical(y_train, num_classes=10)\n",
        "y_test = to_categorical(y_test, num_classes=10)\n",
        "\n",
        "#build model\n",
        "model = Sequential()\n",
        "model.add(LSTM(units=nb_lstm_outputs, input_shape=(nb_time_steps, nb_input_vector)))\n",
        "model.add(Dense(10, activation='softmax'))\n",
        "\n",
        "#compile:loss, optimizer, metrics\n",
        "model.compile(loss='categorical_crossentropy', optimizer='adam', metrics=['accuracy'])\n",
        "#train: epcoch, batch_size\n",
        "model.fit(x_train, y_train, epochs=20, batch_size=128, verbose=1)\n",
        "\n",
        "model.summary()\n",
        "\n",
        "score = model.evaluate(x_test, y_test,batch_size=128, verbose=1)\n",
        "print(score)"
      ],
      "execution_count": 1,
      "outputs": [
        {
          "output_type": "stream",
          "text": [
            "Using TensorFlow backend.\n"
          ],
          "name": "stderr"
        },
        {
          "output_type": "stream",
          "text": [
            "Downloading data from https://s3.amazonaws.com/img-datasets/mnist.npz\n",
            "11493376/11490434 [==============================] - 0s 0us/step\n",
            "Epoch 1/20\n",
            "60000/60000 [==============================] - 12s 192us/step - loss: 1.0791 - accuracy: 0.6526\n",
            "Epoch 2/20\n",
            "60000/60000 [==============================] - 11s 183us/step - loss: 0.3383 - accuracy: 0.9016\n",
            "Epoch 3/20\n",
            "60000/60000 [==============================] - 11s 180us/step - loss: 0.2283 - accuracy: 0.9347\n",
            "Epoch 4/20\n",
            "60000/60000 [==============================] - 11s 183us/step - loss: 0.1813 - accuracy: 0.9479\n",
            "Epoch 5/20\n",
            "60000/60000 [==============================] - 11s 183us/step - loss: 0.1504 - accuracy: 0.9562\n",
            "Epoch 6/20\n",
            "60000/60000 [==============================] - 11s 185us/step - loss: 0.1327 - accuracy: 0.9621\n",
            "Epoch 7/20\n",
            "60000/60000 [==============================] - 11s 181us/step - loss: 0.1176 - accuracy: 0.9654\n",
            "Epoch 8/20\n",
            "60000/60000 [==============================] - 11s 180us/step - loss: 0.1101 - accuracy: 0.9679\n",
            "Epoch 9/20\n",
            "60000/60000 [==============================] - 11s 182us/step - loss: 0.1010 - accuracy: 0.9708\n",
            "Epoch 10/20\n",
            "60000/60000 [==============================] - 11s 181us/step - loss: 0.0922 - accuracy: 0.9730\n",
            "Epoch 11/20\n",
            "60000/60000 [==============================] - 11s 182us/step - loss: 0.0860 - accuracy: 0.9746\n",
            "Epoch 12/20\n",
            "60000/60000 [==============================] - 11s 179us/step - loss: 0.0814 - accuracy: 0.9756\n",
            "Epoch 13/20\n",
            "60000/60000 [==============================] - 11s 180us/step - loss: 0.0765 - accuracy: 0.9773\n",
            "Epoch 14/20\n",
            "60000/60000 [==============================] - 11s 183us/step - loss: 0.0705 - accuracy: 0.9790\n",
            "Epoch 15/20\n",
            "60000/60000 [==============================] - 11s 181us/step - loss: 0.0683 - accuracy: 0.9798\n",
            "Epoch 16/20\n",
            "60000/60000 [==============================] - 11s 182us/step - loss: 0.0632 - accuracy: 0.9809\n",
            "Epoch 17/20\n",
            "60000/60000 [==============================] - 11s 182us/step - loss: 0.0614 - accuracy: 0.9814\n",
            "Epoch 18/20\n",
            "60000/60000 [==============================] - 11s 180us/step - loss: 0.0588 - accuracy: 0.9822\n",
            "Epoch 19/20\n",
            "60000/60000 [==============================] - 11s 180us/step - loss: 0.0539 - accuracy: 0.9843\n",
            "Epoch 20/20\n",
            "60000/60000 [==============================] - 11s 178us/step - loss: 0.0525 - accuracy: 0.9840\n",
            "Model: \"sequential_1\"\n",
            "_________________________________________________________________\n",
            "Layer (type)                 Output Shape              Param #   \n",
            "=================================================================\n",
            "lstm_1 (LSTM)                (None, 30)                7080      \n",
            "_________________________________________________________________\n",
            "dense_1 (Dense)              (None, 10)                310       \n",
            "=================================================================\n",
            "Total params: 7,390\n",
            "Trainable params: 7,390\n",
            "Non-trainable params: 0\n",
            "_________________________________________________________________\n",
            "10000/10000 [==============================] - 1s 57us/step\n",
            "[0.07962517130672932, 0.9750000238418579]\n"
          ],
          "name": "stdout"
        }
      ]
    }
  ]
}