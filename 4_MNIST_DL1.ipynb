{
  "nbformat": 4,
  "nbformat_minor": 0,
  "metadata": {
    "colab": {
      "name": "4_MNIST_DL1.ipynb",
      "provenance": []
    },
    "kernelspec": {
      "name": "python3",
      "display_name": "Python 3"
    }
  },
  "cells": [
    {
      "cell_type": "markdown",
      "metadata": {
        "id": "gDO87MBu7-gd",
        "colab_type": "text"
      },
      "source": [
        "# **MNIST資料集深度學習訓練1**\n",
        "MNIST為手寫辨識資料集，含有60000筆手寫數字訓練資料，以及10000筆測試資料 本範例利用傳統的深度學習模型進行訓練"
      ]
    },
    {
      "cell_type": "code",
      "metadata": {
        "id": "m1PEnxH11-3t",
        "colab_type": "code",
        "colab": {}
      },
      "source": [
        "# import Keras、模型、層數，import tensorflow\n",
        "import keras\n",
        "from keras.models import Sequential\n",
        "from keras.layers import Dense, Dropout, Flatten\n",
        "import tensorflow as tf\n",
        "\n",
        "# 使用順序模型Sequential\n",
        "model = Sequential()\n",
        "model.add(Flatten())\n",
        "# 第一層有512個點\n",
        "model.add(Dense(512, activation='relu'))\n",
        "# 丟棄第一層的20%結果中\n",
        "model.add(Dropout(0.2))\n",
        "# 第二層總結輸出為10個結果\n",
        "model.add(Dense(10, activation='softmax'))\n",
        "model.compile(optimizer='adam', loss='sparse_categorical_crossentropy', metrics=['accuracy'])\n",
        "\n",
        "\n",
        "mnist = tf.keras.datasets.mnist\n",
        "(x_train, y_train),(x_test, y_test) = mnist.load_data()\n",
        "# 正規化資料，mnist手寫資料的圖像，每一個pixel為灰階，讓測試資料介於0~1之間（float）\n",
        "x_train, x_test = x_train / 255.0, x_test / 255.0\n",
        "# 倒入訓練資輛、測試資料，跑5輪\n",
        "model.fit(x_train, y_train, epochs=5)\n",
        "model.evaluate(x_test, y_test)"
      ],
      "execution_count": 0,
      "outputs": []
    }
  ]
}