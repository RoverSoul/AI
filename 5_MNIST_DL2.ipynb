{
  "nbformat": 4,
  "nbformat_minor": 0,
  "metadata": {
    "colab": {
      "name": "5_MNIST_DL2.ipynb",
      "provenance": [],
      "collapsed_sections": []
    },
    "kernelspec": {
      "name": "python3",
      "display_name": "Python 3"
    }
  },
  "cells": [
    {
      "cell_type": "markdown",
      "metadata": {
        "id": "L6Swae0gSZmN",
        "colab_type": "text"
      },
      "source": [
        "# **MNIST資料集深度學習訓練2**\n",
        "MNIST為手寫辨識資料集，含有60000筆手寫數字訓練資料，以及10000筆測試資料 本範例利用傳統的深度學習模型進行訓練 並且把手寫數字標籤(正確數字)利用onehot encoding進行轉換，加速訓練過程"
      ]
    },
    {
      "cell_type": "code",
      "metadata": {
        "id": "h_1X6_IW8NEX",
        "colab_type": "code",
        "outputId": "fbaa6249-bb9b-48e8-bc10-4935a3391ec7",
        "colab": {
          "base_uri": "https://localhost:8080/",
          "height": 776
        }
      },
      "source": [
        "# import Keras、mnist手寫資料集、模型、層數、Dropout、規則、Conv2D、優化器\n",
        "import keras\n",
        "from keras.datasets import mnist\n",
        "from keras.models import Sequential\n",
        "from keras.layers import Dense, Dropout, LeakyReLU, Conv2D\n",
        "from keras.optimizers import RMSprop\n",
        "from keras.utils import np_utils\n",
        "import numpy as np\n",
        "\n",
        "# 讀取手寫資料集，x_train、y_train為訓練資料，x_test, y_test為測試資料\n",
        "# x_train、y_train分別為訓練資料的Data與Data的答案，x_test, y_test同樣\n",
        "# y_train與y_test資料的正確數字介於0~9之間(0,1,2,3,4,5,6,7,8,9)\n",
        "(x_train, y_train), (x_test, y_test) = mnist.load_data()\n",
        "# 定義分類數量 = 10\n",
        "num_classes = 10\n",
        "\n",
        "# 使用reshape將訓練資料切分為單筆最大為784的大小，共計6萬筆及1萬筆\n",
        "x_train = x_train.reshape(60000, 784)\n",
        "x_test = x_test.reshape(10000, 784)\n",
        "# 將訓練資料的型態轉換為float32，目的為之後的正規化\n",
        "x_train = x_train.astype('float32')\n",
        "x_test = x_test.astype('float32')\n",
        "# 對訓練資料做正規化，手寫資料集的資料每一pixel為灰階（1~255），除以255讓數值正規化介於0~1之間\n",
        "x_train /= 255\n",
        "x_test /= 255\n",
        "print(x_train.shape[0], 'train samples')\n",
        "print(x_test.shape[0], 'test samples')\n",
        "# 使用.to_categorical方法，將測試資料轉換成one_hot encoding的方式\n",
        "y_train = keras.utils.to_categorical(y_train, num_classes)\n",
        "y_test = keras.utils.to_categorical(y_test, num_classes)\n",
        "\n",
        "model = Sequential()\n",
        "# 第一層為20個點，輸入資料為一個784維的張量（上面已經切好了）\n",
        "model.add(Dense(20, activation=LeakyReLU(), input_shape=(784,)))\n",
        "# 第二層為20個點\n",
        "model.add(Dense(20, activation=LeakyReLU()))\n",
        "# 第三層為10個點，並總結輸出結果\n",
        "model.add(Dense(10, activation='softmax'))\n",
        "model.summary()\n",
        "# 編譯模型\n",
        "model.compile(loss='categorical_crossentropy',\n",
        "              optimizer=RMSprop(),\n",
        "              metrics=['accuracy'])\n",
        "# 倒入訓練資料、測試資料，每次的樣本大小為128，跑10輪，以進度條方式顯示\n",
        "history = model.fit(x_train, y_train,\n",
        "                    batch_size=128,\n",
        "                    epochs=10,\n",
        "                    verbose=1,\n",
        "                    validation_data=(x_test, y_test))\n",
        "# 在測試中，返回loss及metrics values\n",
        "scores = model.evaluate(x_test, y_test)\n",
        "# 輸出\n",
        "print(scores[1])"
      ],
      "execution_count": 1,
      "outputs": [
        {
          "output_type": "stream",
          "text": [
            "Using TensorFlow backend.\n"
          ],
          "name": "stderr"
        },
        {
          "output_type": "stream",
          "text": [
            "Downloading data from https://s3.amazonaws.com/img-datasets/mnist.npz\n",
            "11493376/11490434 [==============================] - 0s 0us/step\n",
            "60000 train samples\n",
            "10000 test samples\n"
          ],
          "name": "stdout"
        },
        {
          "output_type": "stream",
          "text": [
            "/usr/local/lib/python3.6/dist-packages/keras/activations.py:235: UserWarning: Do not pass a layer instance (such as LeakyReLU) as the activation argument of another layer. Instead, advanced activation layers should be used just like any other layer in a model.\n",
            "  identifier=identifier.__class__.__name__))\n"
          ],
          "name": "stderr"
        },
        {
          "output_type": "stream",
          "text": [
            "Model: \"sequential_1\"\n",
            "_________________________________________________________________\n",
            "Layer (type)                 Output Shape              Param #   \n",
            "=================================================================\n",
            "dense_1 (Dense)              (None, 20)                15700     \n",
            "_________________________________________________________________\n",
            "dense_2 (Dense)              (None, 20)                420       \n",
            "_________________________________________________________________\n",
            "dense_3 (Dense)              (None, 10)                210       \n",
            "=================================================================\n",
            "Total params: 16,330\n",
            "Trainable params: 16,330\n",
            "Non-trainable params: 0\n",
            "_________________________________________________________________\n",
            "Train on 60000 samples, validate on 10000 samples\n",
            "Epoch 1/10\n",
            "60000/60000 [==============================] - 1s 19us/step - loss: 0.5628 - accuracy: 0.8377 - val_loss: 0.2992 - val_accuracy: 0.9169\n",
            "Epoch 2/10\n",
            "60000/60000 [==============================] - 1s 16us/step - loss: 0.2856 - accuracy: 0.9178 - val_loss: 0.2626 - val_accuracy: 0.9248\n",
            "Epoch 3/10\n",
            "60000/60000 [==============================] - 1s 16us/step - loss: 0.2510 - accuracy: 0.9279 - val_loss: 0.2444 - val_accuracy: 0.9283\n",
            "Epoch 4/10\n",
            "60000/60000 [==============================] - 1s 16us/step - loss: 0.2263 - accuracy: 0.9352 - val_loss: 0.2308 - val_accuracy: 0.9323\n",
            "Epoch 5/10\n",
            "60000/60000 [==============================] - 1s 16us/step - loss: 0.2069 - accuracy: 0.9396 - val_loss: 0.2029 - val_accuracy: 0.9405\n",
            "Epoch 6/10\n",
            "60000/60000 [==============================] - 1s 16us/step - loss: 0.1918 - accuracy: 0.9449 - val_loss: 0.1899 - val_accuracy: 0.9432\n",
            "Epoch 7/10\n",
            "60000/60000 [==============================] - 1s 16us/step - loss: 0.1784 - accuracy: 0.9484 - val_loss: 0.1791 - val_accuracy: 0.9476\n",
            "Epoch 8/10\n",
            "60000/60000 [==============================] - 1s 16us/step - loss: 0.1689 - accuracy: 0.9507 - val_loss: 0.1725 - val_accuracy: 0.9490\n",
            "Epoch 9/10\n",
            "60000/60000 [==============================] - 1s 17us/step - loss: 0.1600 - accuracy: 0.9524 - val_loss: 0.1646 - val_accuracy: 0.9510\n",
            "Epoch 10/10\n",
            "60000/60000 [==============================] - 1s 16us/step - loss: 0.1523 - accuracy: 0.9557 - val_loss: 0.1695 - val_accuracy: 0.9504\n",
            "10000/10000 [==============================] - 0s 19us/step\n",
            "0.9503999948501587\n"
          ],
          "name": "stdout"
        }
      ]
    }
  ]
}