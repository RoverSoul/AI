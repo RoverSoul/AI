{
  "nbformat": 4,
  "nbformat_minor": 0,
  "metadata": {
    "colab": {
      "name": "3_Keras_Tutorial_2.ipynb",
      "provenance": [],
      "collapsed_sections": []
    },
    "kernelspec": {
      "name": "python3",
      "display_name": "Python 3"
    }
  },
  "cells": [
    {
      "cell_type": "code",
      "metadata": {
        "id": "cJr5J8s7pC_x",
        "colab_type": "code",
        "colab": {
          "base_uri": "https://localhost:8080/",
          "height": 763
        },
        "outputId": "3d0c16ca-a20a-4de1-c028-ca023743860b"
      },
      "source": [
        "# import Keras、模型、層數\n",
        "import keras\n",
        "from keras.models import Sequential\n",
        "from keras.layers import Dense, Dropout, Activation\n",
        "from keras.optimizers import SGD\n",
        "\n",
        "# Generate dummy data\n",
        "import numpy as np\n",
        "# 隨機產生1000筆資料，每筆資料1包含十個float數字\n",
        "x_train = np.random.random((1000, 10))\n",
        "# 隨機產生1000筆資料，每筆資料上限為2(意思就是0 或 1)，定義分類數量 = 10\n",
        "y_train = keras.utils.to_categorical(np.random.randint(10, size=(1000, 1)), num_classes=10)\n",
        "# 隨機產生100筆資料，每筆資料1包含十個float數字\n",
        "x_test = np.random.random((100, 10))\n",
        "# 隨機產生100筆資料，每筆資料上限為2(意思就是0 或 1)，定義分類數量 = 10\n",
        "y_test = keras.utils.to_categorical(np.random.randint(10, size=(100, 1)), num_classes=10)\n",
        "\n",
        "# 使用順序模型Sequential\n",
        "model = Sequential()\n",
        "# 第一層為64個點，指定輸入尺寸參數為10\n",
        "model.add(Dense(64, activation='relu', input_dim=10))\n",
        "# 第二層為64個點\n",
        "model.add(Dense(64, activation='relu'))\n",
        "# 第三層總結輸出為10個點\n",
        "model.add(Dense(10, activation='softmax'))\n",
        "# 雖機梯度下降優化器optimizer = SGD\n",
        "# lr = 學習率（>=0）\n",
        "# decay = 每次參數更新後的學習率衰減值\n",
        "# momentum = 動量參數，用於加速SGD在相關方向前進\n",
        "# nesterov = 是否使用nesterov動量\n",
        "sgd = SGD(lr=0.01, decay=1e-6, momentum=0.9, nesterov=True)\n",
        "model.compile(loss='categorical_crossentropy', optimizer=sgd, metrics=['accuracy'])\n",
        "\n",
        "# 倒入訓練資料、測試資料、跑20輪，每批資料量的大小為128\n",
        "model.fit(x_train, y_train, epochs=20, batch_size=128)\n",
        "score = model.evaluate(x_test, y_test, batch_size=128)\n",
        "print(score)"
      ],
      "execution_count": 1,
      "outputs": [
        {
          "output_type": "stream",
          "text": [
            "Using TensorFlow backend.\n"
          ],
          "name": "stderr"
        },
        {
          "output_type": "stream",
          "text": [
            "Epoch 1/20\n",
            "1000/1000 [==============================] - 0s 211us/step - loss: 2.3097 - accuracy: 0.1160\n",
            "Epoch 2/20\n",
            "1000/1000 [==============================] - 0s 14us/step - loss: 2.3068 - accuracy: 0.1110\n",
            "Epoch 3/20\n",
            "1000/1000 [==============================] - 0s 14us/step - loss: 2.3025 - accuracy: 0.1170\n",
            "Epoch 4/20\n",
            "1000/1000 [==============================] - 0s 14us/step - loss: 2.3002 - accuracy: 0.1070\n",
            "Epoch 5/20\n",
            "1000/1000 [==============================] - 0s 13us/step - loss: 2.2986 - accuracy: 0.1050\n",
            "Epoch 6/20\n",
            "1000/1000 [==============================] - 0s 13us/step - loss: 2.2967 - accuracy: 0.1120\n",
            "Epoch 7/20\n",
            "1000/1000 [==============================] - 0s 12us/step - loss: 2.2958 - accuracy: 0.1220\n",
            "Epoch 8/20\n",
            "1000/1000 [==============================] - 0s 12us/step - loss: 2.2941 - accuracy: 0.1170\n",
            "Epoch 9/20\n",
            "1000/1000 [==============================] - 0s 12us/step - loss: 2.2933 - accuracy: 0.1150\n",
            "Epoch 10/20\n",
            "1000/1000 [==============================] - 0s 13us/step - loss: 2.2920 - accuracy: 0.1210\n",
            "Epoch 11/20\n",
            "1000/1000 [==============================] - 0s 13us/step - loss: 2.2910 - accuracy: 0.1240\n",
            "Epoch 12/20\n",
            "1000/1000 [==============================] - 0s 17us/step - loss: 2.2900 - accuracy: 0.1200\n",
            "Epoch 13/20\n",
            "1000/1000 [==============================] - 0s 12us/step - loss: 2.2892 - accuracy: 0.1200\n",
            "Epoch 14/20\n",
            "1000/1000 [==============================] - 0s 14us/step - loss: 2.2881 - accuracy: 0.1250\n",
            "Epoch 15/20\n",
            "1000/1000 [==============================] - 0s 14us/step - loss: 2.2873 - accuracy: 0.1250\n",
            "Epoch 16/20\n",
            "1000/1000 [==============================] - 0s 13us/step - loss: 2.2863 - accuracy: 0.1320\n",
            "Epoch 17/20\n",
            "1000/1000 [==============================] - 0s 14us/step - loss: 2.2856 - accuracy: 0.1370\n",
            "Epoch 18/20\n",
            "1000/1000 [==============================] - 0s 14us/step - loss: 2.2850 - accuracy: 0.1360\n",
            "Epoch 19/20\n",
            "1000/1000 [==============================] - 0s 13us/step - loss: 2.2839 - accuracy: 0.1420\n",
            "Epoch 20/20\n",
            "1000/1000 [==============================] - 0s 15us/step - loss: 2.2833 - accuracy: 0.1400\n",
            "100/100 [==============================] - 0s 189us/step\n",
            "[2.2918901443481445, 0.11999999731779099]\n"
          ],
          "name": "stdout"
        }
      ]
    }
  ]
}