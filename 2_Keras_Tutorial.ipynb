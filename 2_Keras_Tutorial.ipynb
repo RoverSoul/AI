{
  "nbformat": 4,
  "nbformat_minor": 0,
  "metadata": {
    "colab": {
      "name": "2_Keras_Tutorial.ipynb",
      "provenance": []
    },
    "kernelspec": {
      "name": "python3",
      "display_name": "Python 3"
    },
    "accelerator": "GPU"
  },
  "cells": [
    {
      "cell_type": "markdown",
      "metadata": {
        "id": "0-Yl__jQnq4v",
        "colab_type": "text"
      },
      "source": [
        "# **Keras深度學習初體驗1**\n",
        "利用keras套件，產生一個32個神經元的深度學習模型進行訓練"
      ]
    },
    {
      "cell_type": "code",
      "metadata": {
        "id": "Y537yxzTnnO-",
        "colab_type": "code",
        "colab": {
          "base_uri": "https://localhost:8080/",
          "height": 503
        },
        "outputId": "7ad138f3-dce8-42aa-9189-59051ba7244a"
      },
      "source": [
        "# import Keras、模型、層數\n",
        "import keras\n",
        "from keras.models import Sequential\n",
        "from keras.layers import Dense\n",
        "\n",
        "import numpy as np\n",
        "data = np.random.random((1000, 10)) #隨機產生1000筆資料，每筆資料1包含十個float數字\n",
        "labels = np.random.randint(2, size=(1000, 1)) #隨機產生1000筆資料，每筆資料上限為2(意思就是0 或 1)\n",
        "print(np.shape(data))\n",
        "print(data[0])\n",
        "print(np.shape(labels))\n",
        "print(labels[0])\n",
        "\n",
        "model = Sequential()\n",
        "# 第一層 32個點\n",
        "model.add(Dense(32, activation='relu', input_dim=10))\n",
        "# 第二層 總結輸出為1個結果\n",
        "model.add(Dense(1, activation='sigmoid'))\n",
        "model.compile(optimizer='rmsprop', loss='binary_crossentropy', metrics=['accuracy'])\n",
        "# 倒入訓練、測試資料，跑10輪、每批資料量的大小為32\n",
        "model.fit(data, labels, epochs=10, batch_size=32)\n",
        "\n",
        "score=model.evaluate(data, labels)\n",
        "print(score[1])"
      ],
      "execution_count": 1,
      "outputs": [
        {
          "output_type": "stream",
          "text": [
            "Using TensorFlow backend.\n"
          ],
          "name": "stderr"
        },
        {
          "output_type": "stream",
          "text": [
            "(1000, 10)\n",
            "[0.15053313 0.10007032 0.20464104 0.95006333 0.16419131 0.92503722\n",
            " 0.9510996  0.43085753 0.504672   0.54029322]\n",
            "(1000, 1)\n",
            "[0]\n",
            "Epoch 1/10\n",
            "1000/1000 [==============================] - 2s 2ms/step - loss: 0.7024 - accuracy: 0.5020\n",
            "Epoch 2/10\n",
            "1000/1000 [==============================] - 0s 73us/step - loss: 0.6983 - accuracy: 0.5100\n",
            "Epoch 3/10\n",
            "1000/1000 [==============================] - 0s 71us/step - loss: 0.6970 - accuracy: 0.5160\n",
            "Epoch 4/10\n",
            "1000/1000 [==============================] - 0s 73us/step - loss: 0.6962 - accuracy: 0.5110\n",
            "Epoch 5/10\n",
            "1000/1000 [==============================] - 0s 81us/step - loss: 0.6955 - accuracy: 0.5100\n",
            "Epoch 6/10\n",
            "1000/1000 [==============================] - 0s 75us/step - loss: 0.6946 - accuracy: 0.5080\n",
            "Epoch 7/10\n",
            "1000/1000 [==============================] - 0s 77us/step - loss: 0.6942 - accuracy: 0.5190\n",
            "Epoch 8/10\n",
            "1000/1000 [==============================] - 0s 73us/step - loss: 0.6930 - accuracy: 0.5060\n",
            "Epoch 9/10\n",
            "1000/1000 [==============================] - 0s 73us/step - loss: 0.6930 - accuracy: 0.5150\n",
            "Epoch 10/10\n",
            "1000/1000 [==============================] - 0s 77us/step - loss: 0.6926 - accuracy: 0.5230\n",
            "1000/1000 [==============================] - 0s 56us/step\n",
            "0.5270000100135803\n"
          ],
          "name": "stdout"
        }
      ]
    }
  ]
}