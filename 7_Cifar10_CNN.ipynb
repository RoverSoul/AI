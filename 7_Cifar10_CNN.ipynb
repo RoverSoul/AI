{
  "nbformat": 4,
  "nbformat_minor": 0,
  "metadata": {
    "colab": {
      "name": "7.Cifar10_CNN.ipynb",
      "provenance": [],
      "collapsed_sections": []
    },
    "kernelspec": {
      "name": "python3",
      "display_name": "Python 3"
    },
    "accelerator": "GPU"
  },
  "cells": [
    {
      "cell_type": "markdown",
      "metadata": {
        "id": "oUnnk-MNEGej",
        "colab_type": "text"
      },
      "source": [
        "# **使用 Keras 測試 Cifar10 影像資料集**\n",
        "最後使用圖表顯示 測試的Loss率與驗證的Loss率"
      ]
    },
    {
      "cell_type": "code",
      "metadata": {
        "id": "d3ZMxhDl_Krs",
        "colab_type": "code",
        "colab": {
          "base_uri": "https://localhost:8080/",
          "height": 1000
        },
        "outputId": "ddd95fc1-6538-4e5c-853d-6a9ae8fcb780"
      },
      "source": [
        "# 匯入cifar10模組\n",
        "from keras.datasets import cifar10\n",
        "\n",
        "# 讀入訓練資料集與測試資料集\n",
        "(x_train, y_train_), (x_test, y_test_) = cifar10.load_data()\n",
        "\n",
        "# 正規化資料集\n",
        "x_train = x_train.astype('float32') / 255\n",
        "x_test = x_test.astype('float32') / 255\n",
        "\n",
        "# 採用Onehot encoding，將彼此間不相關且非有序的categories轉換為連續性且是有序數值。\n",
        "from keras.utils import to_categorical\n",
        "y_train = to_categorical(y_train_)\n",
        "y_test = to_categorical(y_test_)\n",
        "\n",
        "\"\"\"## Model Definition\"\"\"\n",
        "# CNN模型建置\n",
        "from keras.models import Sequential\n",
        "model = Sequential()\n",
        "\n",
        "from keras.layers import Conv2D, MaxPool2D, Flatten, Dense\n",
        "# filter代表過濾器的數量, kernel_size代表filter的大小\n",
        "# input_shape等於張量的數據\n",
        "model.add(Conv2D(filters=32, \n",
        "                kernel_size=(3, 3),\n",
        "                activation='relu',\n",
        "                input_shape=(32, 32, 3)))\n",
        "\n",
        "model.add(MaxPool2D())\n",
        "\n",
        "model.add(Conv2D(filters=64,\n",
        "                kernel_size=(3, 3),\n",
        "                activation='relu'))\n",
        "model.add(MaxPool2D())\n",
        "\n",
        "model.add(Flatten())\n",
        "model.add(Dense(10, activation='softmax'))\n",
        "\n",
        "model.compile(optimizer='adam',\n",
        "             loss='categorical_crossentropy',\n",
        "             metrics=['accuracy'])\n",
        "\n",
        "print(model.summary())\n",
        "\n",
        "\"\"\"## Fitting\"\"\"\n",
        "# 模型訓練\n",
        "# x:訓練資料 y:訓練資料的答案 validation_data:驗證資料 \n",
        "# 這裡跑15輪，每次的樣本大小為50，verbose = 顯示為每輪顯示一行\n",
        "history = model.fit(x_train, y_train, batch_size=50, epochs=15, verbose=1, validation_data=(x_test, y_test))\n",
        "\n",
        "#繪製損失率與驗證率歷史圖\n",
        "import matplotlib.pyplot as plt\n",
        "\n",
        "history_dict = history.history\n",
        "loss_values = history_dict['loss']\n",
        "val_loss_values = history_dict['val_loss']\n",
        "\n",
        "epochs = range(1, len(history_dict['accuracy']) + 1)\n",
        "\n",
        "plt.plot(epochs, loss_values, 'bo', label='Training loss')\n",
        "plt.plot(epochs, val_loss_values, 'b', label='Validation loss')\n",
        "plt.title('Training and validation loss')\n",
        "plt.xlabel('Epochs')\n",
        "plt.ylabel('Loss')\n",
        "plt.legend()\n",
        "\n",
        "plt.show()"
      ],
      "execution_count": 1,
      "outputs": [
        {
          "output_type": "stream",
          "text": [
            "Using TensorFlow backend.\n"
          ],
          "name": "stderr"
        },
        {
          "output_type": "stream",
          "text": [
            "Downloading data from https://www.cs.toronto.edu/~kriz/cifar-10-python.tar.gz\n",
            "170500096/170498071 [==============================] - 2s 0us/step\n",
            "Model: \"sequential_1\"\n",
            "_________________________________________________________________\n",
            "Layer (type)                 Output Shape              Param #   \n",
            "=================================================================\n",
            "conv2d_1 (Conv2D)            (None, 30, 30, 32)        896       \n",
            "_________________________________________________________________\n",
            "max_pooling2d_1 (MaxPooling2 (None, 15, 15, 32)        0         \n",
            "_________________________________________________________________\n",
            "conv2d_2 (Conv2D)            (None, 13, 13, 64)        18496     \n",
            "_________________________________________________________________\n",
            "max_pooling2d_2 (MaxPooling2 (None, 6, 6, 64)          0         \n",
            "_________________________________________________________________\n",
            "flatten_1 (Flatten)          (None, 2304)              0         \n",
            "_________________________________________________________________\n",
            "dense_1 (Dense)              (None, 10)                23050     \n",
            "=================================================================\n",
            "Total params: 42,442\n",
            "Trainable params: 42,442\n",
            "Non-trainable params: 0\n",
            "_________________________________________________________________\n",
            "None\n",
            "Train on 50000 samples, validate on 10000 samples\n",
            "Epoch 1/15\n",
            "50000/50000 [==============================] - 15s 305us/step - loss: 1.4989 - accuracy: 0.4680 - val_loss: 1.2842 - val_accuracy: 0.5492\n",
            "Epoch 2/15\n",
            "50000/50000 [==============================] - 9s 189us/step - loss: 1.1811 - accuracy: 0.5872 - val_loss: 1.1000 - val_accuracy: 0.6183\n",
            "Epoch 3/15\n",
            "50000/50000 [==============================] - 9s 189us/step - loss: 1.0558 - accuracy: 0.6339 - val_loss: 1.0158 - val_accuracy: 0.6496\n",
            "Epoch 4/15\n",
            "50000/50000 [==============================] - 10s 204us/step - loss: 0.9837 - accuracy: 0.6618 - val_loss: 1.0247 - val_accuracy: 0.6501\n",
            "Epoch 5/15\n",
            "50000/50000 [==============================] - 10s 194us/step - loss: 0.9255 - accuracy: 0.6827 - val_loss: 1.0349 - val_accuracy: 0.6425\n",
            "Epoch 6/15\n",
            "50000/50000 [==============================] - 9s 188us/step - loss: 0.8774 - accuracy: 0.6983 - val_loss: 0.9392 - val_accuracy: 0.6767\n",
            "Epoch 7/15\n",
            "50000/50000 [==============================] - 9s 189us/step - loss: 0.8384 - accuracy: 0.7124 - val_loss: 0.9504 - val_accuracy: 0.6721\n",
            "Epoch 8/15\n",
            "50000/50000 [==============================] - 9s 187us/step - loss: 0.8030 - accuracy: 0.7264 - val_loss: 0.9269 - val_accuracy: 0.6812\n",
            "Epoch 9/15\n",
            "50000/50000 [==============================] - 9s 189us/step - loss: 0.7791 - accuracy: 0.7342 - val_loss: 0.9067 - val_accuracy: 0.6905\n",
            "Epoch 10/15\n",
            "50000/50000 [==============================] - 10s 190us/step - loss: 0.7513 - accuracy: 0.7423 - val_loss: 0.9163 - val_accuracy: 0.6963\n",
            "Epoch 11/15\n",
            "50000/50000 [==============================] - 9s 190us/step - loss: 0.7279 - accuracy: 0.7501 - val_loss: 0.8858 - val_accuracy: 0.7078\n",
            "Epoch 12/15\n",
            "50000/50000 [==============================] - 9s 188us/step - loss: 0.7044 - accuracy: 0.7578 - val_loss: 0.8979 - val_accuracy: 0.7001\n",
            "Epoch 13/15\n",
            "50000/50000 [==============================] - 9s 190us/step - loss: 0.6858 - accuracy: 0.7640 - val_loss: 0.8966 - val_accuracy: 0.7025\n",
            "Epoch 14/15\n",
            "50000/50000 [==============================] - 9s 189us/step - loss: 0.6668 - accuracy: 0.7708 - val_loss: 0.9113 - val_accuracy: 0.6972\n",
            "Epoch 15/15\n",
            "50000/50000 [==============================] - 9s 188us/step - loss: 0.6484 - accuracy: 0.7765 - val_loss: 0.9214 - val_accuracy: 0.6961\n"
          ],
          "name": "stdout"
        },
        {
          "output_type": "display_data",
          "data": {
            "image/png": "[encoded data removed]",
            "text/plain": [
              "<Figure size 432x288 with 1 Axes>"
            ]
          },
          "metadata": {
            "tags": [],
            "needs_background": "light"
          }
        }
      ]
    }
  ]
}