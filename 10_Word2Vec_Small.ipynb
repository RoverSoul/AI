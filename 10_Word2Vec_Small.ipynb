{
  "nbformat": 4,
  "nbformat_minor": 0,
  "metadata": {
    "colab": {
      "name": "10_Word2Vec_Small.ipynb",
      "provenance": [],
      "collapsed_sections": []
    },
    "kernelspec": {
      "name": "python3",
      "display_name": "Python 3"
    },
    "accelerator": "GPU"
  },
  "cells": [
    {
      "cell_type": "code",
      "metadata": {
        "id": "KFlX9Wr9h0MJ",
        "colab_type": "code",
        "colab": {
          "base_uri": "https://localhost:8080/",
          "height": 440
        },
        "outputId": "85af7983-45ac-47ab-a6df-632e2eabd015"
      },
      "source": [
        "# 使用wget指令，從github獲取自建的文章作為語料庫\n",
        "!wget https://raw.githubusercontent.com/RoverSoul/AI/master/word2vec_test.txt\n",
        "\n",
        "# 從gensim中 import模型與word2vec\n",
        "import sys\n",
        "from gensim.models import word2vec\n",
        "from gensim import models\n",
        "\n",
        "# 使用LineSentence方法，將語料庫的格式轉為word2vec所需的格式\n",
        "sentences = word2vec.LineSentence(\"word2vec_test.txt\")\n",
        "# 製作Word2Vec的模型，倒入語料庫、size為訓練出的詞向量有幾維\n",
        "# min_count = 若這個詞出現的次數小於min_count，那他就不會被視為訓練對象\n",
        "# negative = 負採樣，用以提升效率，用隨機採樣方式減少運算，只更新特定詞的權重\n",
        "model = word2vec.Word2Vec(sentences, size=5, min_count=1, negative=10)\n",
        "\n",
        "# 將模型儲存\n",
        "# 前一組方法儲存的檔案不能利用文字編輯器檢視但是儲存了訓練的全部資訊，可以在讀取後追加訓練\n",
        "# 後一組方法儲存為word2vec文字格式但是儲存時丟失了詞彙樹等部分資訊，不能追加訓練\n",
        "model.save('word2vec.model')\n",
        "model.wv.save_word2vec_format('word2vec.model', binary = False)\n",
        "print('done')\n",
        "\n",
        "\n",
        "input_str = \"家裡\"\n",
        "res = model.wv.most_similar(input_str)\n",
        "for item in res: \n",
        "      print(item[0] + ':' + str(item[1]))"
      ],
      "execution_count": 4,
      "outputs": [
        {
          "output_type": "stream",
          "text": [
            "--2020-04-24 12:43:28--  https://raw.githubusercontent.com/RoverSoul/AI/master/word2vec_test.txt\n",
            "Resolving raw.githubusercontent.com (raw.githubusercontent.com)... 151.101.0.133, 151.101.64.133, 151.101.128.133, ...\n",
            "Connecting to raw.githubusercontent.com (raw.githubusercontent.com)|151.101.0.133|:443... connected.\n",
            "HTTP request sent, awaiting response... 200 OK\n",
            "Length: 425 [text/plain]\n",
            "Saving to: ‘word2vec_test.txt.3’\n",
            "\n",
            "\rword2vec_test.txt.3   0%[                    ]       0  --.-KB/s               \rword2vec_test.txt.3 100%[===================>]     425  --.-KB/s    in 0s      \n",
            "\n",
            "2020-04-24 12:43:28 (31.6 MB/s) - ‘word2vec_test.txt.3’ saved [425/425]\n",
            "\n",
            "done\n",
            "吃:0.6235184669494629\n",
            "下午茶:0.2842150628566742\n",
            "玩:0.08300110697746277\n",
            "學校:-0.30049675703048706\n",
            "外面:-0.41024860739707947\n",
            "吃下午茶:-0.41376739740371704\n",
            "便當:-0.5656294226646423\n",
            "飯:-0.625237226486206\n"
          ],
          "name": "stdout"
        },
        {
          "output_type": "stream",
          "text": [
            "/usr/local/lib/python3.6/dist-packages/smart_open/smart_open_lib.py:253: UserWarning: This function is deprecated, use smart_open.open instead. See the migration notes for details: https://github.com/RaRe-Technologies/smart_open/blob/master/README.rst#migrating-to-the-new-open-function\n",
            "  'See the migration notes for details: %s' % _MIGRATION_NOTES_URL\n",
            "/usr/local/lib/python3.6/dist-packages/gensim/matutils.py:737: FutureWarning: Conversion of the second argument of issubdtype from `int` to `np.signedinteger` is deprecated. In future, it will be treated as `np.int64 == np.dtype(int).type`.\n",
            "  if np.issubdtype(vec.dtype, np.int):\n"
          ],
          "name": "stderr"
        }
      ]
    }
  ]
}